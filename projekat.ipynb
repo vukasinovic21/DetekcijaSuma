{
 "cells": [
  {
   "cell_type": "code",
   "execution_count": 2,
   "metadata": {},
   "outputs": [
    {
     "data": {
      "text/html": [
       "\n",
       "            <style>\n",
       "                .geemap-dark {\n",
       "                    --jp-widgets-color: white;\n",
       "                    --jp-widgets-label-color: white;\n",
       "                    --jp-ui-font-color1: white;\n",
       "                    --jp-layout-color2: #454545;\n",
       "                    background-color: #383838;\n",
       "                }\n",
       "\n",
       "                .geemap-dark .jupyter-button {\n",
       "                    --jp-layout-color3: #383838;\n",
       "                }\n",
       "\n",
       "                .geemap-colab {\n",
       "                    background-color: var(--colab-primary-surface-color, white);\n",
       "                }\n",
       "\n",
       "                .geemap-colab .jupyter-button {\n",
       "                    --jp-layout-color3: var(--colab-primary-surface-color, white);\n",
       "                }\n",
       "            </style>\n",
       "            "
      ],
      "text/plain": [
       "<IPython.core.display.HTML object>"
      ]
     },
     "metadata": {},
     "output_type": "display_data"
    }
   ],
   "source": [
    "import numpy as np\n",
    "import pandas as pd\n",
    "import cv2  # OpenCV\n",
    "import rasterio\n",
    "from sklearn.ensemble import RandomForestClassifier\n",
    "import matplotlib.pyplot as plt\n",
    "import ee  # Earth Engine API\n",
    "import geemap\n",
    "import os\n",
    "import leaflet\n",
    "import ipywidgets as widgets"
   ]
  },
  {
   "cell_type": "code",
   "execution_count": 8,
   "metadata": {},
   "outputs": [
    {
     "data": {
      "text/html": [
       "\n",
       "            <style>\n",
       "                .geemap-dark {\n",
       "                    --jp-widgets-color: white;\n",
       "                    --jp-widgets-label-color: white;\n",
       "                    --jp-ui-font-color1: white;\n",
       "                    --jp-layout-color2: #454545;\n",
       "                    background-color: #383838;\n",
       "                }\n",
       "\n",
       "                .geemap-dark .jupyter-button {\n",
       "                    --jp-layout-color3: #383838;\n",
       "                }\n",
       "\n",
       "                .geemap-colab {\n",
       "                    background-color: var(--colab-primary-surface-color, white);\n",
       "                }\n",
       "\n",
       "                .geemap-colab .jupyter-button {\n",
       "                    --jp-layout-color3: var(--colab-primary-surface-color, white);\n",
       "                }\n",
       "            </style>\n",
       "            "
      ],
      "text/plain": [
       "<IPython.core.display.HTML object>"
      ]
     },
     "metadata": {},
     "output_type": "display_data"
    },
    {
     "data": {
      "application/vnd.jupyter.widget-view+json": {
       "model_id": "4bb7b3dcd49d4653a55af43453311c39",
       "version_major": 2,
       "version_minor": 0
      },
      "text/plain": [
       "Map(center=[43.048612010054555, 20.615346499989577], controls=(WidgetControl(options=['position', 'transparent…"
      ]
     },
     "execution_count": 8,
     "metadata": {},
     "output_type": "execute_result"
    }
   ],
   "source": [
    "#os.remove(os.path.expanduser('~/.config/earthengine/credentials'))\n",
    "ee.Authenticate()\n",
    "ee.Initialize(project='nikolavukasinovic')\n",
    "\n",
    "# Definišemo područje interesa (AOI) - Stavio da bude moje selo\n",
    "aoi = ee.Geometry.Polygon([\n",
    "    [\n",
    "        [20.611538, 43.045487],  # Ugao 1 (Jugo Zapadna granica)\n",
    "        [20.619155, 43.045487],  # Ugao 2 (Jugo Istočna granica)\n",
    "        [20.619155, 43.051737],  # Ugao 3 (Severo Istočna granica)\n",
    "        [20.611538, 43.051737]   # Ugao 4 (Severo Zapadna granica)\n",
    "    ]\n",
    "])\n",
    "\n",
    "# Učitajte Sentinel-2 snimka za 2022. godinu\n",
    "dataset = ee.ImageCollection('COPERNICUS/S2_HARMONIZED') \\\n",
    "            .filterDate('2022-01-01', '2022-12-31') \\\n",
    "            .filterBounds(aoi)\n",
    "            \n",
    "# Preuzimanje slike\n",
    "images = dataset.toList(dataset.size())\n",
    "\n",
    "image = ee.Image(dataset.first())\n",
    "\n",
    "vis_params = {\n",
    "    'bands': ['B4', 'B3', 'B2'],  # RGB bands\n",
    "    'min': 0,\n",
    "    'max': 3000,\n",
    "    'gamma': 1.4\n",
    "}\n",
    "\n",
    "\n",
    "# Pravimo mapu za vizuelizaciju\n",
    "Map = geemap.Map()\n",
    "Map.centerObject(aoi, 13)\n",
    "Map.addLayer(image, vis_params, 'RGB Image')\n",
    "Map.addLayer(aoi, {}, 'AOI')\n",
    "Map.addLayerControl()\n",
    "Map"
   ]
  },
  {
   "cell_type": "code",
   "execution_count": 9,
   "metadata": {},
   "outputs": [
    {
     "data": {
      "text/html": [
       "\n",
       "            <style>\n",
       "                .geemap-dark {\n",
       "                    --jp-widgets-color: white;\n",
       "                    --jp-widgets-label-color: white;\n",
       "                    --jp-ui-font-color1: white;\n",
       "                    --jp-layout-color2: #454545;\n",
       "                    background-color: #383838;\n",
       "                }\n",
       "\n",
       "                .geemap-dark .jupyter-button {\n",
       "                    --jp-layout-color3: #383838;\n",
       "                }\n",
       "\n",
       "                .geemap-colab {\n",
       "                    background-color: var(--colab-primary-surface-color, white);\n",
       "                }\n",
       "\n",
       "                .geemap-colab .jupyter-button {\n",
       "                    --jp-layout-color3: var(--colab-primary-surface-color, white);\n",
       "                }\n",
       "            </style>\n",
       "            "
      ],
      "text/plain": [
       "<IPython.core.display.HTML object>"
      ]
     },
     "metadata": {},
     "output_type": "display_data"
    },
    {
     "data": {
      "application/vnd.jupyter.widget-view+json": {
       "model_id": "768e319fd9d045ab8a54c8a31f5f0f2b",
       "version_major": 2,
       "version_minor": 0
      },
      "text/plain": [
       "Map(center=[43.048612010054555, 20.615346499989577], controls=(WidgetControl(options=['position', 'transparent…"
      ]
     },
     "execution_count": 9,
     "metadata": {},
     "output_type": "execute_result"
    }
   ],
   "source": [
    "def calculate_ndvi(image):\n",
    "    # Racunamo NDVI: (NIR - Red) / (NIR + Red)\n",
    "    ndvi = image.normalizedDifference(['B8', 'B4']).rename('NDVI')\n",
    "    return image.addBands(ndvi)\n",
    "\n",
    "# Dodeljujemo NDVI proracun za svaku sliku u kolekciji\n",
    "dataset_with_ndvi = dataset.map(calculate_ndvi)\n",
    "\n",
    "# Uzimamo prosecnu sliku u zadnjih godinu dana za NDVI\n",
    "median_ndvi = dataset_with_ndvi.select('NDVI').median().clip(aoi)\n",
    "\n",
    "# Postavljamo parametre za NDVI (Normalized Difference Vegetation Index)\n",
    "ndvi_params = {\n",
    "    'min': -1,\n",
    "    'max': 1,\n",
    "    'palette': ['blue', 'white', 'green']\n",
    "}\n",
    "\n",
    "# Visualize NDVI\n",
    "Map = geemap.Map()\n",
    "Map.centerObject(aoi, 13)\n",
    "Map.addLayer(median_ndvi, ndvi_params, 'Median NDVI')\n",
    "Map.addLayer(aoi, {}, 'AOI')\n",
    "Map.addLayerControl()\n",
    "Map"
   ]
  },
  {
   "cell_type": "code",
   "execution_count": 10,
   "metadata": {},
   "outputs": [
    {
     "data": {
      "text/html": [
       "\n",
       "            <style>\n",
       "                .geemap-dark {\n",
       "                    --jp-widgets-color: white;\n",
       "                    --jp-widgets-label-color: white;\n",
       "                    --jp-ui-font-color1: white;\n",
       "                    --jp-layout-color2: #454545;\n",
       "                    background-color: #383838;\n",
       "                }\n",
       "\n",
       "                .geemap-dark .jupyter-button {\n",
       "                    --jp-layout-color3: #383838;\n",
       "                }\n",
       "\n",
       "                .geemap-colab {\n",
       "                    background-color: var(--colab-primary-surface-color, white);\n",
       "                }\n",
       "\n",
       "                .geemap-colab .jupyter-button {\n",
       "                    --jp-layout-color3: var(--colab-primary-surface-color, white);\n",
       "                }\n",
       "            </style>\n",
       "            "
      ],
      "text/plain": [
       "<IPython.core.display.HTML object>"
      ]
     },
     "metadata": {},
     "output_type": "display_data"
    },
    {
     "name": "stdout",
     "output_type": "stream",
     "text": [
      "Generating URL ...\n",
      "Downloading data from https://earthengine.googleapis.com/v1/projects/nikolavukasinovic/thumbnails/5f3ba3ee66f1e66593e6c6c48bb85ff3-a06c15f8f9f81c9545d96cb4b4829668:getPixels\n",
      "Please wait ...\n",
      "Data downloaded to k:\\DetekcijaSuma\\images\\median_ndvi.tif\n"
     ]
    }
   ],
   "source": [
    "images_folder = os.path.join(os.getcwd(), 'images')\n",
    "export_path = os.path.join(images_folder, 'median_ndvi.tif')\n",
    "\n",
    "# Exportujemo sliku na lokal\n",
    "geemap.ee_export_image(\n",
    "    median_ndvi,\n",
    "    filename=export_path,\n",
    "    scale=5,\n",
    "    region=aoi.getInfo()['coordinates']\n",
    ")\n"
   ]
  },
  {
   "cell_type": "code",
   "execution_count": 18,
   "metadata": {},
   "outputs": [
    {
     "data": {
      "text/html": [
       "\n",
       "            <style>\n",
       "                .geemap-dark {\n",
       "                    --jp-widgets-color: white;\n",
       "                    --jp-widgets-label-color: white;\n",
       "                    --jp-ui-font-color1: white;\n",
       "                    --jp-layout-color2: #454545;\n",
       "                    background-color: #383838;\n",
       "                }\n",
       "\n",
       "                .geemap-dark .jupyter-button {\n",
       "                    --jp-layout-color3: #383838;\n",
       "                }\n",
       "\n",
       "                .geemap-colab {\n",
       "                    background-color: var(--colab-primary-surface-color, white);\n",
       "                }\n",
       "\n",
       "                .geemap-colab .jupyter-button {\n",
       "                    --jp-layout-color3: var(--colab-primary-surface-color, white);\n",
       "                }\n",
       "            </style>\n",
       "            "
      ],
      "text/plain": [
       "<IPython.core.display.HTML object>"
      ]
     },
     "metadata": {},
     "output_type": "display_data"
    },
    {
     "data": {
      "image/png": "[encoded data removed]",
      "text/plain": [
       "<Figure size 640x480 with 2 Axes>"
      ]
     },
     "metadata": {},
     "output_type": "display_data"
    }
   ],
   "source": [
    "# Ucitavamo exportovanu NDVI sliku\n",
    "with rasterio.open(export_path) as src:\n",
    "    ndvi_data = src.read(1)  # Citamo prvi band\n",
    "    profile = src.profile\n",
    "\n",
    "# Prikaz NDVI slike\n",
    "plt.imshow(ndvi_data, cmap='RdYlGn', vmin=-1, vmax=1)\n",
    "plt.colorbar()\n",
    "plt.title('Median NDVI 2022')\n",
    "plt.show()\n"
   ]
  },
  {
   "cell_type": "code",
   "execution_count": 17,
   "metadata": {},
   "outputs": [
    {
     "data": {
      "text/html": [
       "\n",
       "            <style>\n",
       "                .geemap-dark {\n",
       "                    --jp-widgets-color: white;\n",
       "                    --jp-widgets-label-color: white;\n",
       "                    --jp-ui-font-color1: white;\n",
       "                    --jp-layout-color2: #454545;\n",
       "                    background-color: #383838;\n",
       "                }\n",
       "\n",
       "                .geemap-dark .jupyter-button {\n",
       "                    --jp-layout-color3: #383838;\n",
       "                }\n",
       "\n",
       "                .geemap-colab {\n",
       "                    background-color: var(--colab-primary-surface-color, white);\n",
       "                }\n",
       "\n",
       "                .geemap-colab .jupyter-button {\n",
       "                    --jp-layout-color3: var(--colab-primary-surface-color, white);\n",
       "                }\n",
       "            </style>\n",
       "            "
      ],
      "text/plain": [
       "<IPython.core.display.HTML object>"
      ]
     },
     "metadata": {},
     "output_type": "display_data"
    },
    {
     "data": {
      "application/vnd.jupyter.widget-view+json": {
       "model_id": "768e319fd9d045ab8a54c8a31f5f0f2b",
       "version_major": 2,
       "version_minor": 0
      },
      "text/plain": [
       "Map(bottom=3081247.0, center=[43.04521313586904, 20.624964237213135], controls=(WidgetControl(options=['positi…"
      ]
     },
     "execution_count": 17,
     "metadata": {},
     "output_type": "execute_result"
    }
   ],
   "source": [
    "# Racunamo NDVI za 2021. godinu\n",
    "dataset_2021 = ee.ImageCollection('COPERNICUS/S2_HARMONIZED') \\\n",
    "    .filterDate('2021-01-01', '2021-12-31') \\\n",
    "    .filterBounds(aoi)\n",
    "\n",
    "dataset_2021_ndvi = dataset_2021.map(calculate_ndvi)\n",
    "median_ndvi_2021 = dataset_2021_ndvi.select('NDVI').median().clip(aoi)\n",
    "\n",
    "# Razlika izmedju dva perioda\n",
    "ndvi_difference = median_ndvi.subtract(median_ndvi_2021)\n",
    "\n",
    "# Visualize the NDVI difference\n",
    "diff_params = {\n",
    "    'min': -0.5,\n",
    "    'max': 0.5,\n",
    "    'palette': ['red', 'white', 'green']\n",
    "}\n",
    "\n",
    "Map.addLayer(ndvi_difference, diff_params, 'NDVI Difference')\n",
    "Map.addLayerControl()\n",
    "Map\n"
   ]
  },
  {
   "cell_type": "code",
   "execution_count": 22,
   "metadata": {},
   "outputs": [
    {
     "data": {
      "text/html": [
       "\n",
       "            <style>\n",
       "                .geemap-dark {\n",
       "                    --jp-widgets-color: white;\n",
       "                    --jp-widgets-label-color: white;\n",
       "                    --jp-ui-font-color1: white;\n",
       "                    --jp-layout-color2: #454545;\n",
       "                    background-color: #383838;\n",
       "                }\n",
       "\n",
       "                .geemap-dark .jupyter-button {\n",
       "                    --jp-layout-color3: #383838;\n",
       "                }\n",
       "\n",
       "                .geemap-colab {\n",
       "                    background-color: var(--colab-primary-surface-color, white);\n",
       "                }\n",
       "\n",
       "                .geemap-colab .jupyter-button {\n",
       "                    --jp-layout-color3: var(--colab-primary-surface-color, white);\n",
       "                }\n",
       "            </style>\n",
       "            "
      ],
      "text/plain": [
       "<IPython.core.display.HTML object>"
      ]
     },
     "metadata": {},
     "output_type": "display_data"
    }
   ],
   "source": [
    "# Oznacio oblast na mapi GFW-a\n",
    "# Skinuo podatke za tree cover loss\n",
    "# Skinuo podatke za tree cover by type\n",
    "# Sacuvao podatke lokalno\n",
    "\n",
    "# Ucitavanje podataka\n",
    "\n",
    "import rasterio\n",
    "import matplotlib.pyplot as plt\n",
    "\n",
    "# Putanja do skinutih GeoTIFF fajlova\n",
    "file_path_loss = os.path.join(os.getcwd(), 'treecover_loss')\n",
    "file_path_type = os.path.join(os.getcwd(), 'treecover_type')\n",
    "\n",
    "with rasterio.open(file_path_loss) as src:\n",
    "    tree_cover_loss = src.read(1)  \n",
    "    profile = src.profile\n",
    "\n",
    "df = pd.DataFrame(tree_cover_loss, columns=['TreeCoverLoss'])\n",
    "\n",
    "# Vizualizacija podataka\n",
    "plt.imshow(tree_cover_loss , cmap='RdYlGn', vmin=0, vmax=1)  \n",
    "plt.colorbar()\n",
    "plt.title('Tree Cover Loss')\n",
    "plt.show()"
   ]
  },
  {
   "cell_type": "code",
   "execution_count": null,
   "metadata": {},
   "outputs": [],
   "source": [
    "#Preprocesing\n",
    "\n",
    "import json\n",
    "from rasterio.mask import mask\n",
    "\n",
    "aoi_geojson = {\n",
    "    \"type\": \"Polygon\",\n",
    "    \"coordinates\": [\n",
    "        [\n",
    "            [20.611538, 43.045487],\n",
    "            [20.619155, 43.045487],\n",
    "            [20.619155, 43.051737],\n",
    "            [20.611538, 43.051737],\n",
    "            [20.611538, 43.045487]  # Jos jedna tacka za zatvaranje poligona, kao na Global Forest Watchu\n",
    "        ]\n",
    "    ]\n",
    "}\n",
    "\n",
    "with open('aoi.geojson', 'w') as f:\n",
    "    json.dump(aoi_geojson, f)\n",
    "    \n",
    "\n",
    "with rasterio.open(file_path_loss) as src:\n",
    "    out_image, out_transform = mask(src, [aoi_geojson], crop=True)\n",
    "    out_meta = src.meta.copy()\n",
    "\n",
    "# Promena metapodataka za klipovanu sliku\n",
    "out_meta.update({\n",
    "    \"driver\": \"GTiff\",\n",
    "    \"count\": 1,\n",
    "    \"height\": out_image.shape[1],\n",
    "    \"width\": out_image.shape[2],\n",
    "    \"transform\": out_transform\n",
    "})\n",
    "\n",
    "# Cuvanje klipovane slike\n",
    "clipped_file_path = os.path.join(os.getcwd(), 'clipped_tree_cover_loss.tiff')\n",
    "with rasterio.open(clipped_file_path, \"w\", **out_meta) as dest:\n",
    "    dest.write(out_image)"
   ]
  },
  {
   "cell_type": "code",
   "execution_count": null,
   "metadata": {},
   "outputs": [],
   "source": [
    "import rasterio\n",
    "import pandas as pd\n",
    "import matplotlib.pyplot as plt\n",
    "\n",
    "# Ucitavanje klipovane NDVI slike\n",
    "with rasterio.open(clipped_file_path) as src:\n",
    "    tree_cover_loss_data = src.read(1) \n",
    "    profile = src.profile\n",
    "\n",
    "df = pd.DataFrame(tree_cover_loss_data)\n",
    "\n",
    "df_flat = df.stack().reset_index()\n",
    "df_flat.columns = ['row', 'col', 'TreeCoverLoss']\n",
    "\n",
    "threshold = 10\n",
    "df_flat['Label'] = np.where(df_flat['TreeCoverLoss'] > threshold, 1, 0)\n"
   ]
  },
  {
   "cell_type": "code",
   "execution_count": null,
   "metadata": {},
   "outputs": [],
   "source": []
  },
  {
   "cell_type": "code",
   "execution_count": 21,
   "metadata": {},
   "outputs": [
    {
     "data": {
      "text/html": [
       "\n",
       "            <style>\n",
       "                .geemap-dark {\n",
       "                    --jp-widgets-color: white;\n",
       "                    --jp-widgets-label-color: white;\n",
       "                    --jp-ui-font-color1: white;\n",
       "                    --jp-layout-color2: #454545;\n",
       "                    background-color: #383838;\n",
       "                }\n",
       "\n",
       "                .geemap-dark .jupyter-button {\n",
       "                    --jp-layout-color3: #383838;\n",
       "                }\n",
       "\n",
       "                .geemap-colab {\n",
       "                    background-color: var(--colab-primary-surface-color, white);\n",
       "                }\n",
       "\n",
       "                .geemap-colab .jupyter-button {\n",
       "                    --jp-layout-color3: var(--colab-primary-surface-color, white);\n",
       "                }\n",
       "            </style>\n",
       "            "
      ],
      "text/plain": [
       "<IPython.core.display.HTML object>"
      ]
     },
     "metadata": {},
     "output_type": "display_data"
    },
    {
     "name": "stdout",
     "output_type": "stream",
     "text": [
      "Confusion Matrix:\n",
      "[[ 869    0]\n",
      " [   0 5081]]\n",
      "\n",
      "Classification Report:\n",
      "              precision    recall  f1-score   support\n",
      "\n",
      "           0       1.00      1.00      1.00       869\n",
      "           1       1.00      1.00      1.00      5081\n",
      "\n",
      "    accuracy                           1.00      5950\n",
      "   macro avg       1.00      1.00      1.00      5950\n",
      "weighted avg       1.00      1.00      1.00      5950\n",
      "\n"
     ]
    },
    {
     "data": {
      "image/png": "[encoded data removed]",
      "text/plain": [
       "<Figure size 640x480 with 1 Axes>"
      ]
     },
     "metadata": {},
     "output_type": "display_data"
    }
   ],
   "source": [
    "from sklearn.ensemble import RandomForestClassifier\n",
    "from sklearn.model_selection import train_test_split\n",
    "from sklearn.metrics import classification_report, confusion_matrix\n",
    "\n",
    "\n",
    "# Gde je ndvi manji od 0.2 racunacemo da je pokrceno a ostali ce da upadnu u posumljeno\n",
    "# Trebalo bi da imam primere pokrcenih i posumljenih delova pa to da mi bude materijal za treniranje\n",
    "labels = np.where(ndvi_data < 0.2, 1, 0)\n",
    "\n",
    "# Poravnati NDVI podatke za treniranje ako je potrebno\n",
    "X = ndvi_data.flatten().reshape(-1, 1)  # Features (NDVI values)\n",
    "y = labels.flatten()  # Labels (0 for no deforestation, 1 for deforestation)\n",
    "\n",
    "# Deljenje podataka na train i test skupove u odnosu 75/25\n",
    "X_train, X_test, y_train, y_test = train_test_split(X, y, test_size=0.25, random_state=42)\n",
    "\n",
    "# Inicijalizacija RandomForestClassifier sa 100 jedinica\n",
    "rf_classifier = RandomForestClassifier(n_estimators=100, random_state=42)\n",
    "\n",
    "# Treniranje modela\n",
    "rf_classifier.fit(X_train, y_train)\n",
    "\n",
    "# Prediktovanje\n",
    "y_pred = rf_classifier.predict(X_test)\n",
    "\n",
    "# Evaluacija modela\n",
    "print(\"Confusion Matrix:\")\n",
    "print(confusion_matrix(y_test, y_pred))\n",
    "\n",
    "print(\"\\nClassification Report:\")\n",
    "print(classification_report(y_test, y_pred))\n",
    "\n",
    "# Opciono, vizualizacija klasifikovane mape\n",
    "classified_map = rf_classifier.predict(X).reshape(ndvi_data.shape)\n",
    "plt.imshow(classified_map, cmap='gray')\n",
    "plt.title('Classified Map')\n",
    "plt.show()\n"
   ]
  },
  {
   "cell_type": "code",
   "execution_count": null,
   "metadata": {},
   "outputs": [],
   "source": []
  },
  {
   "cell_type": "code",
   "execution_count": null,
   "metadata": {},
   "outputs": [],
   "source": []
  },
  {
   "cell_type": "code",
   "execution_count": null,
   "metadata": {},
   "outputs": [],
   "source": []
  },
  {
   "cell_type": "code",
   "execution_count": null,
   "metadata": {},
   "outputs": [],
   "source": []
  }
 ],
 "metadata": {
  "kernelspec": {
   "display_name": "Python 3",
   "language": "python",
   "name": "python3"
  },
  "language_info": {
   "codemirror_mode": {
    "name": "ipython",
    "version": 3
   },
   "file_extension": ".py",
   "mimetype": "text/x-python",
   "name": "python",
   "nbconvert_exporter": "python",
   "pygments_lexer": "ipython3",
   "version": "3.12.1"
  }
 },
 "nbformat": 4,
 "nbformat_minor": 2
}
